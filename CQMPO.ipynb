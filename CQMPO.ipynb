{
 "cells": [
  {
   "cell_type": "code",
   "execution_count": 5,
   "id": "initial_id",
   "metadata": {
    "collapsed": true,
    "ExecuteTime": {
     "end_time": "2024-03-24T09:45:41.490666Z",
     "start_time": "2024-03-24T09:45:41.397821Z"
    }
   },
   "outputs": [
    {
     "data": {
      "text/plain": "'Diversification'"
     },
     "execution_count": 5,
     "metadata": {},
     "output_type": "execute_result"
    }
   ],
   "source": [
    "from dimod import ConstrainedQuadraticModel, Binary\n",
    "N = 10\n",
    "M = 5\n",
    "R = 100\n",
    "B = 100\n",
    "D = 100\n",
    "mu = [1.0 for _ in range(N)]\n",
    "sigma = [[1.0 for _ in range(N)] for _ in range(N)]\n",
    "\n",
    "Z = [[Binary(f\"z_{i}_{l}\") for l in range(M)] for i in range(N)]\n",
    "cqm = ConstrainedQuadraticModel()\n",
    "H_obj = 0\n",
    "for i in range(N):\n",
    "    for l in range(M):\n",
    "        H_obj += mu[i] * (2**l) * Z[i][l]\n",
    "\n",
    "risk = 0\n",
    "for i in range(N):\n",
    "    for j in range(N):\n",
    "        for l1 in range(M):\n",
    "            for l2 in range(M):\n",
    "                risk += (2**l1) * (2**l2) * Z[i][l1] * Z[j][l2] * sigma[i][j]\n",
    "            \n",
    "budget = 0\n",
    "for i in range(N):\n",
    "    for l in range(M):\n",
    "        budget += (2**l) * Z[i][l]           \n",
    "\n",
    "diversification = 0\n",
    "for i in range(N):\n",
    "    for l in range(M):\n",
    "        diversification += 2**l * Z[i][l]\n",
    "                \n",
    "cqm.set_objective(H_obj)\n",
    "cqm.add_constraint(risk <= R, \"Risk\")\n",
    "cqm.add_constraint(budget <= B, \"Budget\")\n",
    "cqm.add_constraint(diversification <= D, \"Diversification\")\n"
   ]
  },
  {
   "cell_type": "code",
   "execution_count": 6,
   "outputs": [
    {
     "name": "stdout",
     "output_type": "stream",
     "text": [
      "Sample(sample={'z_0_0': 0.0, 'z_0_1': 0.0, 'z_0_2': 0.0, 'z_0_3': 0.0, 'z_0_4': 0.0, 'z_1_0': 0.0, 'z_1_1': 0.0, 'z_1_2': 0.0, 'z_1_3': 0.0, 'z_1_4': 0.0, 'z_2_0': 0.0, 'z_2_1': 0.0, 'z_2_2': 0.0, 'z_2_3': 0.0, 'z_2_4': 0.0, 'z_3_0': 0.0, 'z_3_1': 0.0, 'z_3_2': 0.0, 'z_3_3': 0.0, 'z_3_4': 0.0, 'z_4_0': 0.0, 'z_4_1': 0.0, 'z_4_2': 0.0, 'z_4_3': 0.0, 'z_4_4': 0.0, 'z_5_0': 0.0, 'z_5_1': 0.0, 'z_5_2': 0.0, 'z_5_3': 0.0, 'z_5_4': 0.0, 'z_6_0': 0.0, 'z_6_1': 0.0, 'z_6_2': 0.0, 'z_6_3': 0.0, 'z_6_4': 0.0, 'z_7_0': 0.0, 'z_7_1': 0.0, 'z_7_2': 0.0, 'z_7_3': 0.0, 'z_7_4': 0.0, 'z_8_0': 0.0, 'z_8_1': 0.0, 'z_8_2': 0.0, 'z_8_3': 0.0, 'z_8_4': 0.0, 'z_9_0': 0.0, 'z_9_1': 0.0, 'z_9_2': 0.0, 'z_9_3': 0.0, 'z_9_4': 0.0}, energy=0.0, num_occurrences=1, is_satisfied=array([ True,  True,  True]), is_feasible=True)\n"
     ]
    }
   ],
   "source": [
    "from dwave.system import LeapHybridCQMSampler\n",
    "sampler = LeapHybridCQMSampler( token=\"DEV-cddb029389cceb03f209fa6f9a2c093dc7ac360a\")                \n",
    "sampleset = sampler.sample_cqm(cqm)             \n",
    "print(sampleset.first)                          "
   ],
   "metadata": {
    "collapsed": false,
    "ExecuteTime": {
     "end_time": "2024-03-24T09:46:03.550409Z",
     "start_time": "2024-03-24T09:45:42.489728Z"
    }
   },
   "id": "9916cbe37f381cfe"
  },
  {
   "cell_type": "code",
   "execution_count": null,
   "outputs": [],
   "source": [],
   "metadata": {
    "collapsed": false
   },
   "id": "6b30cdb05ce7f5bd"
  }
 ],
 "metadata": {
  "kernelspec": {
   "display_name": "Python 3",
   "language": "python",
   "name": "python3"
  },
  "language_info": {
   "codemirror_mode": {
    "name": "ipython",
    "version": 2
   },
   "file_extension": ".py",
   "mimetype": "text/x-python",
   "name": "python",
   "nbconvert_exporter": "python",
   "pygments_lexer": "ipython2",
   "version": "2.7.6"
  }
 },
 "nbformat": 4,
 "nbformat_minor": 5
}
