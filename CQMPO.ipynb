{
 "cells": [
  {
   "cell_type": "code",
   "execution_count": 7,
   "id": "initial_id",
   "metadata": {
    "collapsed": true,
    "ExecuteTime": {
     "end_time": "2024-03-24T10:22:55.653709Z",
     "start_time": "2024-03-24T10:22:55.502219Z"
    }
   },
   "outputs": [
    {
     "data": {
      "text/plain": "'Diversification'"
     },
     "execution_count": 7,
     "metadata": {},
     "output_type": "execute_result"
    }
   ],
   "source": [
    "import numpy as np\n",
    "from dimod import ConstrainedQuadraticModel, Binary\n",
    "N = 10\n",
    "M = 5\n",
    "R = 100\n",
    "B = 50\n",
    "D = 16\n",
    "mu = np.random.uniform(low=0.1, high=1.0, size=N)\n",
    "sigma = np.random.uniform(low=0.01, high=0.1, size=(N, N))\n",
    "c = np.random.uniform(low=1, high=10, size=N)\n",
    "\n",
    "Z = [[Binary(f\"z_{i}_{l}\") for l in range(M)] for i in range(N)]\n",
    "cqm = ConstrainedQuadraticModel()\n",
    "H_obj = 0\n",
    "for i in range(N):\n",
    "    for l in range(M):\n",
    "        H_obj -= mu[i] * (2**l) * Z[i][l]\n",
    "\n",
    "risk = 0\n",
    "for i in range(N):\n",
    "    for j in range(N):\n",
    "        for l1 in range(M):\n",
    "            for l2 in range(M):\n",
    "                risk += (2**l1) * (2**l2) * Z[i][l1] * Z[j][l2] * sigma[i][j]\n",
    "            \n",
    "budget = 0\n",
    "for i in range(N):\n",
    "    for l in range(M):\n",
    "        budget += c[i] * (2**l) * Z[i][l]           \n",
    "\n",
    "diversification = 0\n",
    "for i in range(N):\n",
    "    for l in range(M):\n",
    "        diversification += 2**l * Z[i][l]\n",
    "                \n",
    "cqm.set_objective(H_obj)\n",
    "cqm.add_constraint(risk <= R, \"Risk\")\n",
    "cqm.add_constraint(budget <= B, \"Budget\")\n",
    "cqm.add_constraint(diversification <= D, \"Diversification\")\n"
   ]
  },
  {
   "cell_type": "code",
   "execution_count": 8,
   "outputs": [
    {
     "name": "stdout",
     "output_type": "stream",
     "text": [
      "Sample(sample={'z_0_0': 0.0, 'z_0_1': 0.0, 'z_0_2': 0.0, 'z_0_3': 0.0, 'z_0_4': 0.0, 'z_1_0': 1.0, 'z_1_1': 0.0, 'z_1_2': 0.0, 'z_1_3': 0.0, 'z_1_4': 0.0, 'z_2_0': 0.0, 'z_2_1': 0.0, 'z_2_2': 0.0, 'z_2_3': 0.0, 'z_2_4': 0.0, 'z_3_0': 0.0, 'z_3_1': 0.0, 'z_3_2': 0.0, 'z_3_3': 0.0, 'z_3_4': 0.0, 'z_4_0': 0.0, 'z_4_1': 0.0, 'z_4_2': 0.0, 'z_4_3': 0.0, 'z_4_4': 0.0, 'z_5_0': 0.0, 'z_5_1': 0.0, 'z_5_2': 0.0, 'z_5_3': 0.0, 'z_5_4': 0.0, 'z_6_0': 1.0, 'z_6_1': 0.0, 'z_6_2': 0.0, 'z_6_3': 0.0, 'z_6_4': 0.0, 'z_7_0': 0.0, 'z_7_1': 0.0, 'z_7_2': 0.0, 'z_7_3': 0.0, 'z_7_4': 0.0, 'z_8_0': 0.0, 'z_8_1': 0.0, 'z_8_2': 0.0, 'z_8_3': 0.0, 'z_8_4': 0.0, 'z_9_0': 1.0, 'z_9_1': 0.0, 'z_9_2': 1.0, 'z_9_3': 1.0, 'z_9_4': 0.0}, energy=-13.331838839112027, num_occurrences=1, is_satisfied=array([ True,  True, False]), is_feasible=False)\n"
     ]
    }
   ],
   "source": [
    "from dwave.system import LeapHybridCQMSampler\n",
    "sampler = LeapHybridCQMSampler( token=\"DEV-cddb029389cceb03f209fa6f9a2c093dc7ac360a\")                \n",
    "sampleset = sampler.sample_cqm(cqm)             \n",
    "print(sampleset.first)                          "
   ],
   "metadata": {
    "collapsed": false,
    "ExecuteTime": {
     "end_time": "2024-03-24T10:23:23.472012Z",
     "start_time": "2024-03-24T10:22:56.814619Z"
    }
   },
   "id": "9916cbe37f381cfe"
  },
  {
   "cell_type": "code",
   "execution_count": null,
   "outputs": [],
   "source": [],
   "metadata": {
    "collapsed": false
   },
   "id": "6b30cdb05ce7f5bd"
  }
 ],
 "metadata": {
  "kernelspec": {
   "display_name": "Python 3",
   "language": "python",
   "name": "python3"
  },
  "language_info": {
   "codemirror_mode": {
    "name": "ipython",
    "version": 2
   },
   "file_extension": ".py",
   "mimetype": "text/x-python",
   "name": "python",
   "nbconvert_exporter": "python",
   "pygments_lexer": "ipython2",
   "version": "2.7.6"
  }
 },
 "nbformat": 4,
 "nbformat_minor": 5
}
